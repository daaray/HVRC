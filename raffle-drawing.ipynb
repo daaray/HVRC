{
 "cells": [
  {
   "cell_type": "code",
   "execution_count": 1,
   "metadata": {},
   "outputs": [
    {
     "name": "stdout",
     "output_type": "stream",
     "text": [
      "There are 58 entries!\n"
     ]
    }
   ],
   "source": [
    "import random\n",
    "import time\n",
    "\n",
    "pax_entries = [\n",
    "    'Bellhop',\n",
    "    'Quicken',\n",
    "    'MLP',\n",
    "    'MLP',\n",
    "    'Nacho Libre',\n",
    "    'Nacho Libre',\n",
    "    'The Exchange',\n",
    "    'Wreckless',\n",
    "    'Wreckless',\n",
    "    'TB',\n",
    "    'TB',\n",
    "    'Dean Wormer',\n",
    "    'Elf',\n",
    "    'Elf',\n",
    "    'Elf',\n",
    "    'Doogie',\n",
    "    'Marta',\n",
    "    'Bartman',\n",
    "    'TB',\n",
    "    'TB',\n",
    "    'Green Acres',\n",
    "    'Green Acres',\n",
    "    'Griswold',\n",
    "    'Griswold',\n",
    "    'Stop Drop and Roll',\n",
    "    'Stop Drop and Roll',\n",
    "    'Malware',\n",
    "    'Malware',\n",
    "    'Cosmo',\n",
    "    'Uzi',\n",
    "    'Uzi',\n",
    "    'Doogie',\n",
    "    'Peppermint Pattie',\n",
    "    'Cortes',\n",
    "    'Enigma',\n",
    "    'Enigma',\n",
    "    'Enigma',\n",
    "    'Commodore',\n",
    "    'Commodore',\n",
    "    'Red October',\n",
    "    'Red October',\n",
    "    'DOI',\n",
    "    'DOI',\n",
    "    'Slayer',\n",
    "    'Slayer',\n",
    "    'Pikachu',\n",
    "    'Pikachu',\n",
    "    'Exhibit A',\n",
    "    'Cortes',\n",
    "    'Enigma',\n",
    "    'Enigma',\n",
    "    'One Direction',\n",
    "    'One Direction',\n",
    "    'Knope',\n",
    "    'Loonie',\n",
    "    'Loonie',\n",
    "    'TB',\n",
    "    'TB',\n",
    "]\n",
    "\n",
    "entries = len(pax_entries)\n",
    "print(f'There are {entries} entries!')"
   ]
  },
  {
   "cell_type": "code",
   "execution_count": 2,
   "metadata": {},
   "outputs": [
    {
     "name": "stdout",
     "output_type": "stream",
     "text": [
      "Picking Primo Winnero...\n",
      "First Prize goes to: One Direction. Winner's Choice: Rucker (20L or 25L), Speed Rucker, $150 GORUCK Gift Cert\n"
     ]
    }
   ],
   "source": [
    "print(\"Picking Primo Winnero...\")\n",
    "time.sleep(2)\n",
    "selection = random.choice(pax_entries)\n",
    "print(f\"First Prize goes to: {selection}. Winner's Choice: Rucker (20L or 25L), Speed Rucker, $150 GORUCK Gift Cert\")"
   ]
  },
  {
   "cell_type": "code",
   "execution_count": 3,
   "metadata": {},
   "outputs": [
    {
     "name": "stdout",
     "output_type": "stream",
     "text": [
      "Picking Secundo Weiner...\n",
      "Second Prize goes to: Nacho Libre. Winner's Choice: Rucker (20L or 25L), Speed Rucker, $150 GORUCK Gift Cert\n"
     ]
    }
   ],
   "source": [
    "# removing previous winner from the pool.\n",
    "pax_entries = [x for x in pax_entries if x != selection]\n",
    "print(\"Picking Secundo Weiner...\")\n",
    "time.sleep(2)\n",
    "selection = random.choice(pax_entries)\n",
    "print(f\"Second Prize goes to: {selection}. Winner's Choice: Rucker (20L or 25L), Speed Rucker, $150 GORUCK Gift Cert\")"
   ]
  },
  {
   "cell_type": "code",
   "execution_count": 4,
   "metadata": {},
   "outputs": [
    {
     "name": "stdout",
     "output_type": "stream",
     "text": [
      "Picking Vinner Tree...\n",
      "Third Prize goes to: Enigma. $100 GORUCK gift cert!\n"
     ]
    }
   ],
   "source": [
    "# removing previous winner from the pool.\n",
    "pax_entries = [x for x in pax_entries if x != selection]\n",
    "print(\"Picking Vinner Tree...\")\n",
    "time.sleep(2)\n",
    "selection = random.choice(pax_entries)\n",
    "print(f\"Third Prize goes to: {selection}. $100 GORUCK gift cert!\")"
   ]
  }
 ],
 "metadata": {
  "file_extension": ".py",
  "kernelspec": {
   "display_name": "Python 3.8.0 64-bit ('3.8-dev': pyenv)",
   "language": "python",
   "name": "python38064bit38devpyenv823d9a1beed54d0ebb3bdf6d1f0a1e48"
  },
  "language_info": {
   "codemirror_mode": {
    "name": "ipython",
    "version": 3
   },
   "file_extension": ".py",
   "mimetype": "text/x-python",
   "name": "python",
   "nbconvert_exporter": "python",
   "pygments_lexer": "ipython3",
   "version": "3.8.0+"
  },
  "mimetype": "text/x-python",
  "name": "python",
  "npconvert_exporter": "python",
  "pygments_lexer": "ipython3",
  "version": 3
 },
 "nbformat": 4,
 "nbformat_minor": 2
}
